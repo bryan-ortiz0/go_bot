{
 "cells": [
  {
   "cell_type": "markdown",
   "id": "24fba47d-bf2c-4f10-b2a2-9de4b64c50bf",
   "metadata": {},
   "source": [
    "In this notebook, I present the implementation of a small neural network architecture for the purpose of training a Go-playing bot. The architecture consists of convolutional and dense layers, designed to process the board state of a 19x19 Go game. The goal is to predict optimal moves based on the current game state by leveraging 100,000 board game positions that represent a diverse range of scenarios."
   ]
  },
  {
   "cell_type": "markdown",
   "id": "918fb335-8d93-4711-a998-fd488f429567",
   "metadata": {},
   "source": [
    "# Import Library"
   ]
  },
  {
   "cell_type": "markdown",
   "id": "0108f6bb-bf46-4288-b4dc-1bc6f773b0f8",
   "metadata": {},
   "source": [
    "The baseline accuracy is .28% since, on a 19 x 19 board, the chance of making the correct play is only 1 in 361."
   ]
  },
  {
   "cell_type": "code",
   "execution_count": 11,
   "id": "d2a5920a-d8b6-4905-b354-cfce53e0a4c0",
   "metadata": {},
   "outputs": [],
   "source": [
    "import matplotlib.pyplot as plt\n",
    "from dlgo.data.parallel_processor import GoDataProcessor\n",
    "from dlgo.encoders.oneplane import OnePlaneEncoder\n",
    "from keras.models import Sequential\n",
    "from keras.layers import Dense, Activation, Flatten, Conv2D, ZeroPadding2D\n",
    "from keras.callbacks import ModelCheckpoint"
   ]
  },
  {
   "cell_type": "markdown",
   "id": "3dcbc30e-887b-4343-9477-c28e32a0ac27",
   "metadata": {},
   "source": [
    "# NN Function"
   ]
  },
  {
   "cell_type": "code",
   "execution_count": 4,
   "id": "0eb64381-7cb3-4567-8ddb-18e3745a83ef",
   "metadata": {},
   "outputs": [],
   "source": [
    "def small(input_shape):\n",
    "    return [\n",
    "        ZeroPadding2D(padding=(3, 3), input_shape=input_shape, data_format='channels_last'),\n",
    "        Conv2D(48, (7, 7), data_format='channels_last'),\n",
    "        Activation('relu'),\n",
    "\n",
    "        ZeroPadding2D(padding=(2, 2), data_format='channels_last'),\n",
    "        Conv2D(32, (5, 5), data_format='channels_last'),\n",
    "        Activation('relu'),\n",
    "\n",
    "        ZeroPadding2D(padding=(2, 2), data_format='channels_last'),\n",
    "        Conv2D(32, (5, 5), data_format='channels_last'),\n",
    "        Activation('relu'),\n",
    "\n",
    "        ZeroPadding2D(padding=(2, 2), data_format='channels_last'),\n",
    "        Conv2D(32, (5, 5), data_format='channels_last'),\n",
    "        Activation('relu'),\n",
    "\n",
    "        Flatten(),\n",
    "        Dense(512),\n",
    "        Activation('relu'),\n",
    "    ]"
   ]
  },
  {
   "cell_type": "markdown",
   "id": "f3a8a1f0-94c6-439e-a754-7237936be394",
   "metadata": {},
   "source": [
    "# Creating Training and Test Generators"
   ]
  },
  {
   "cell_type": "code",
   "execution_count": 8,
   "id": "67761bdd-35e1-4768-8fb5-f1287461a38a",
   "metadata": {},
   "outputs": [
    {
     "name": "stdout",
     "output_type": "stream",
     "text": [
      ">>> Reading cached index page\n",
      "KGS-2019_04-19-1255-.tar.gz 1255\n",
      "KGS-2019_03-19-1478-.tar.gz 1478\n",
      "KGS-2019_02-19-1412-.tar.gz 1412\n",
      "KGS-2019_01-19-2095-.tar.gz 2095\n",
      "KGS-2018_12-19-1992-.tar.gz 1992\n",
      "KGS-2018_11-19-1879-.tar.gz 1879\n",
      "KGS-2018_10-19-1209-.tar.gz 1209\n",
      "KGS-2018_09-19-1587-.tar.gz 1587\n",
      "KGS-2018_08-19-1447-.tar.gz 1447\n",
      "KGS-2018_07-19-949-.tar.gz 949\n",
      "KGS-2018_06-19-1002-.tar.gz 1002\n",
      "KGS-2018_05-19-1590-.tar.gz 1590\n",
      "KGS-2018_04-19-1612-.tar.gz 1612\n",
      "KGS-2018_03-19-833-.tar.gz 833\n",
      "KGS-2018_02-19-1167-.tar.gz 1167\n",
      "KGS-2018_01-19-1526-.tar.gz 1526\n",
      "KGS-2017_12-19-1488-.tar.gz 1488\n",
      "KGS-2017_11-19-945-.tar.gz 945\n",
      "KGS-2017_10-19-1351-.tar.gz 1351\n",
      "KGS-2017_09-19-1353-.tar.gz 1353\n",
      "KGS-2017_08-19-2205-.tar.gz 2205\n",
      "KGS-2017_07-19-1191-.tar.gz 1191\n",
      "KGS-2017_06-19-910-.tar.gz 910\n",
      "KGS-2017_05-19-847-.tar.gz 847\n",
      "KGS-2017_04-19-913-.tar.gz 913\n",
      "KGS-2017_03-19-717-.tar.gz 717\n",
      "KGS-2017_02-19-525-.tar.gz 525\n",
      "KGS-2017_01-19-733-.tar.gz 733\n",
      "KGS-2016_12-19-1208-.tar.gz 1208\n",
      "KGS-2016_11-19-980-.tar.gz 980\n",
      "KGS-2016_10-19-925-.tar.gz 925\n",
      "KGS-2016_09-19-1170-.tar.gz 1170\n",
      "KGS-2016_08-19-1374-.tar.gz 1374\n",
      "KGS-2016_07-19-1432-.tar.gz 1432\n",
      "KGS-2016_06-19-1540-.tar.gz 1540\n",
      "KGS-2016_05-19-1011-.tar.gz 1011\n",
      "KGS-2016_04-19-1081-.tar.gz 1081\n",
      "KGS-2016_03-19-895-.tar.gz 895\n",
      "KGS-2016_02-19-577-.tar.gz 577\n",
      "KGS-2016_01-19-756-.tar.gz 756\n",
      "KGS-2015-19-8133-.tar.gz 8133\n",
      "KGS-2014-19-13029-.tar.gz 13029\n",
      "KGS-2013-19-13783-.tar.gz 13783\n",
      "KGS-2012-19-13665-.tar.gz 13665\n",
      "KGS-2011-19-19099-.tar.gz 19099\n",
      "KGS-2010-19-17536-.tar.gz 17536\n",
      "KGS-2009-19-18837-.tar.gz 18837\n",
      "KGS-2008-19-14002-.tar.gz 14002\n",
      "KGS-2007-19-11644-.tar.gz 11644\n",
      "KGS-2006-19-10388-.tar.gz 10388\n",
      "KGS-2005-19-13941-.tar.gz 13941\n",
      "KGS-2004-19-12106-.tar.gz 12106\n",
      "KGS-2003-19-7582-.tar.gz 7582\n",
      "KGS-2002-19-3646-.tar.gz 3646\n",
      "KGS-2001-19-2298-.tar.gz 2298\n",
      ">>> Reading cached index page\n",
      "KGS-2019_04-19-1255-.tar.gz 1255\n",
      "KGS-2019_03-19-1478-.tar.gz 1478\n",
      "KGS-2019_02-19-1412-.tar.gz 1412\n",
      "KGS-2019_01-19-2095-.tar.gz 2095\n",
      "KGS-2018_12-19-1992-.tar.gz 1992\n",
      "KGS-2018_11-19-1879-.tar.gz 1879\n",
      "KGS-2018_10-19-1209-.tar.gz 1209\n",
      "KGS-2018_09-19-1587-.tar.gz 1587\n",
      "KGS-2018_08-19-1447-.tar.gz 1447\n",
      "KGS-2018_07-19-949-.tar.gz 949\n",
      "KGS-2018_06-19-1002-.tar.gz 1002\n",
      "KGS-2018_05-19-1590-.tar.gz 1590\n",
      "KGS-2018_04-19-1612-.tar.gz 1612\n",
      "KGS-2018_03-19-833-.tar.gz 833\n",
      "KGS-2018_02-19-1167-.tar.gz 1167\n",
      "KGS-2018_01-19-1526-.tar.gz 1526\n",
      "KGS-2017_12-19-1488-.tar.gz 1488\n",
      "KGS-2017_11-19-945-.tar.gz 945\n",
      "KGS-2017_10-19-1351-.tar.gz 1351\n",
      "KGS-2017_09-19-1353-.tar.gz 1353\n",
      "KGS-2017_08-19-2205-.tar.gz 2205\n",
      "KGS-2017_07-19-1191-.tar.gz 1191\n",
      "KGS-2017_06-19-910-.tar.gz 910\n",
      "KGS-2017_05-19-847-.tar.gz 847\n",
      "KGS-2017_04-19-913-.tar.gz 913\n",
      "KGS-2017_03-19-717-.tar.gz 717\n",
      "KGS-2017_02-19-525-.tar.gz 525\n",
      "KGS-2017_01-19-733-.tar.gz 733\n",
      "KGS-2016_12-19-1208-.tar.gz 1208\n",
      "KGS-2016_11-19-980-.tar.gz 980\n",
      "KGS-2016_10-19-925-.tar.gz 925\n",
      "KGS-2016_09-19-1170-.tar.gz 1170\n",
      "KGS-2016_08-19-1374-.tar.gz 1374\n",
      "KGS-2016_07-19-1432-.tar.gz 1432\n",
      "KGS-2016_06-19-1540-.tar.gz 1540\n",
      "KGS-2016_05-19-1011-.tar.gz 1011\n",
      "KGS-2016_04-19-1081-.tar.gz 1081\n",
      "KGS-2016_03-19-895-.tar.gz 895\n",
      "KGS-2016_02-19-577-.tar.gz 577\n",
      "KGS-2016_01-19-756-.tar.gz 756\n",
      "KGS-2015-19-8133-.tar.gz 8133\n",
      "KGS-2014-19-13029-.tar.gz 13029\n",
      "KGS-2013-19-13783-.tar.gz 13783\n",
      "KGS-2012-19-13665-.tar.gz 13665\n",
      "KGS-2011-19-19099-.tar.gz 19099\n",
      "KGS-2010-19-17536-.tar.gz 17536\n",
      "KGS-2009-19-18837-.tar.gz 18837\n",
      "KGS-2008-19-14002-.tar.gz 14002\n",
      "KGS-2007-19-11644-.tar.gz 11644\n",
      "KGS-2006-19-10388-.tar.gz 10388\n",
      "KGS-2005-19-13941-.tar.gz 13941\n",
      "KGS-2004-19-12106-.tar.gz 12106\n",
      "KGS-2003-19-7582-.tar.gz 7582\n",
      "KGS-2002-19-3646-.tar.gz 3646\n",
      "KGS-2001-19-2298-.tar.gz 2298\n",
      "total num games: 179689\n",
      "Drawn 100000 samples:\n",
      ">>> Reading cached index page\n",
      "KGS-2019_04-19-1255-.tar.gz 1255\n",
      "KGS-2019_03-19-1478-.tar.gz 1478\n",
      "KGS-2019_02-19-1412-.tar.gz 1412\n",
      "KGS-2019_01-19-2095-.tar.gz 2095\n",
      "KGS-2018_12-19-1992-.tar.gz 1992\n",
      "KGS-2018_11-19-1879-.tar.gz 1879\n",
      "KGS-2018_10-19-1209-.tar.gz 1209\n",
      "KGS-2018_09-19-1587-.tar.gz 1587\n",
      "KGS-2018_08-19-1447-.tar.gz 1447\n",
      "KGS-2018_07-19-949-.tar.gz 949\n",
      "KGS-2018_06-19-1002-.tar.gz 1002\n",
      "KGS-2018_05-19-1590-.tar.gz 1590\n",
      "KGS-2018_04-19-1612-.tar.gz 1612\n",
      "KGS-2018_03-19-833-.tar.gz 833\n",
      "KGS-2018_02-19-1167-.tar.gz 1167\n",
      "KGS-2018_01-19-1526-.tar.gz 1526\n",
      "KGS-2017_12-19-1488-.tar.gz 1488\n",
      "KGS-2017_11-19-945-.tar.gz 945\n",
      "KGS-2017_10-19-1351-.tar.gz 1351\n",
      "KGS-2017_09-19-1353-.tar.gz 1353\n",
      "KGS-2017_08-19-2205-.tar.gz 2205\n",
      "KGS-2017_07-19-1191-.tar.gz 1191\n",
      "KGS-2017_06-19-910-.tar.gz 910\n",
      "KGS-2017_05-19-847-.tar.gz 847\n",
      "KGS-2017_04-19-913-.tar.gz 913\n",
      "KGS-2017_03-19-717-.tar.gz 717\n",
      "KGS-2017_02-19-525-.tar.gz 525\n",
      "KGS-2017_01-19-733-.tar.gz 733\n",
      "KGS-2016_12-19-1208-.tar.gz 1208\n",
      "KGS-2016_11-19-980-.tar.gz 980\n",
      "KGS-2016_10-19-925-.tar.gz 925\n",
      "KGS-2016_09-19-1170-.tar.gz 1170\n",
      "KGS-2016_08-19-1374-.tar.gz 1374\n",
      "KGS-2016_07-19-1432-.tar.gz 1432\n",
      "KGS-2016_06-19-1540-.tar.gz 1540\n",
      "KGS-2016_05-19-1011-.tar.gz 1011\n",
      "KGS-2016_04-19-1081-.tar.gz 1081\n",
      "KGS-2016_03-19-895-.tar.gz 895\n",
      "KGS-2016_02-19-577-.tar.gz 577\n",
      "KGS-2016_01-19-756-.tar.gz 756\n",
      "KGS-2015-19-8133-.tar.gz 8133\n",
      "KGS-2014-19-13029-.tar.gz 13029\n",
      "KGS-2013-19-13783-.tar.gz 13783\n",
      "KGS-2012-19-13665-.tar.gz 13665\n",
      "KGS-2011-19-19099-.tar.gz 19099\n",
      "KGS-2010-19-17536-.tar.gz 17536\n",
      "KGS-2009-19-18837-.tar.gz 18837\n",
      "KGS-2008-19-14002-.tar.gz 14002\n",
      "KGS-2007-19-11644-.tar.gz 11644\n",
      "KGS-2006-19-10388-.tar.gz 10388\n",
      "KGS-2005-19-13941-.tar.gz 13941\n",
      "KGS-2004-19-12106-.tar.gz 12106\n",
      "KGS-2003-19-7582-.tar.gz 7582\n",
      "KGS-2002-19-3646-.tar.gz 3646\n",
      "KGS-2001-19-2298-.tar.gz 2298\n"
     ]
    }
   ],
   "source": [
    "go_board_rows, go_board_cols = 19, 19\n",
    "num_classes = go_board_rows * go_board_cols\n",
    "num_games = 100000\n",
    "\n",
    "encoder = OnePlaneEncoder((go_board_rows, go_board_cols)) \n",
    "\n",
    "processor = GoDataProcessor(encoder=encoder.name())\n",
    "\n",
    "generator = processor.load_go_data('train', num_games, use_generator=True)\n",
    "test_generator = processor.load_go_data('test', num_games, use_generator=True)"
   ]
  },
  {
   "cell_type": "code",
   "execution_count": 9,
   "id": "9fb1940f-eba2-4ab4-b37d-5aea0dfc3a2d",
   "metadata": {},
   "outputs": [],
   "source": [
    "input_shape = (encoder.num_planes, go_board_rows, go_board_cols)\n",
    "network_layers = small(input_shape)\n",
    "model = Sequential()\n",
    "for layer in network_layers:\n",
    "    model.add(layer)\n",
    "model.add(Dense(num_classes, activation='softmax'))\n",
    "model.compile(loss='categorical_crossentropy', optimizer='sgd', \n",
    "metrics=['accuracy'])"
   ]
  },
  {
   "cell_type": "code",
   "execution_count": 10,
   "id": "b899cac2-ede2-44a3-8df3-263197a9fbfd",
   "metadata": {},
   "outputs": [
    {
     "name": "stdout",
     "output_type": "stream",
     "text": [
      "Epoch 1/10\n",
      "222608/222608 [==============================] - 6701s 30ms/step - loss: 5.3838 - accuracy: 0.0229 - val_loss: 5.0057 - val_accuracy: 0.0391\n",
      "Epoch 2/10\n",
      "     3/222608 [..............................] - ETA: 1:36:27 - loss: 5.0765 - accuracy: 0.0286"
     ]
    },
    {
     "name": "stderr",
     "output_type": "stream",
     "text": [
      "C:\\Users\\Crypt\\anaconda3\\lib\\site-packages\\keras\\src\\engine\\training.py:3000: UserWarning: You are saving your model as an HDF5 file via `model.save()`. This file format is considered legacy. We recommend using instead the native Keras format, e.g. `model.save('my_model.keras')`.\n",
      "  saving_api.save_model(\n"
     ]
    },
    {
     "name": "stdout",
     "output_type": "stream",
     "text": [
      "222608/222608 [==============================] - 6703s 30ms/step - loss: 4.7990 - accuracy: 0.0558 - val_loss: 4.6807 - val_accuracy: 0.0683\n",
      "Epoch 3/10\n",
      "222608/222608 [==============================] - 6627s 30ms/step - loss: 4.5423 - accuracy: 0.0880 - val_loss: 4.4665 - val_accuracy: 0.1006\n",
      "Epoch 4/10\n",
      "222608/222608 [==============================] - 6630s 30ms/step - loss: 4.3702 - accuracy: 0.1123 - val_loss: 4.3266 - val_accuracy: 0.1179\n",
      "Epoch 5/10\n",
      "222608/222608 [==============================] - 6671s 30ms/step - loss: 4.2480 - accuracy: 0.1279 - val_loss: 4.2340 - val_accuracy: 0.1302\n",
      "Epoch 6/10\n",
      "222608/222608 [==============================] - 6714s 30ms/step - loss: 4.1613 - accuracy: 0.1405 - val_loss: 4.1633 - val_accuracy: 0.1400\n",
      "Epoch 7/10\n",
      "222608/222608 [==============================] - 6821s 31ms/step - loss: 4.1039 - accuracy: 0.1479 - val_loss: 4.1166 - val_accuracy: 0.1448\n",
      "Epoch 8/10\n",
      "222608/222608 [==============================] - 7045s 32ms/step - loss: 4.0277 - accuracy: 0.1553 - val_loss: 4.0637 - val_accuracy: 0.1502\n",
      "Epoch 10/10\n",
      "222608/222608 [==============================] - 6919s 31ms/step - loss: 4.0082 - accuracy: 0.1578 - val_loss: 4.0473 - val_accuracy: 0.1522\n",
      "222608/222608 [==============================] - 1371s 6ms/step - loss: 4.0473 - accuracy: 0.1522\n",
      "Test loss: \n",
      "4.0472636222839355\n",
      "Test accuracy: \n",
      "0.15219932794570923\n"
     ]
    }
   ],
   "source": [
    "epochs = 10\n",
    "batch_size = 128\n",
    "\n",
    "history = model.fit(\n",
    "    x=generator.generate(batch_size, num_classes),\n",
    "    epochs=epochs,\n",
    "    steps_per_epoch=generator.get_num_samples() // batch_size,\n",
    "    validation_data=test_generator.generate(batch_size, num_classes),\n",
    "    validation_steps=test_generator.get_num_samples() // batch_size,\n",
    "    callbacks=[ModelCheckpoint('../checkpoints/small_model_epoch_{epoch}.h5')],\n",
    ")\n",
    "\n",
    "score = model.evaluate(\n",
    "    x=test_generator.generate(batch_size, num_classes),\n",
    "    steps=test_generator.get_num_samples() // batch_size,\n",
    ")\n",
    "\n",
    "print(f'Test loss: \\n{score[0]}')\n",
    "print(f'Test accuracy: \\n{score[1]}')"
   ]
  },
  {
   "cell_type": "code",
   "execution_count": 12,
   "id": "ed85e4da-d7a2-4a87-8bcf-2fa80b897598",
   "metadata": {},
   "outputs": [
    {
     "name": "stdout",
     "output_type": "stream",
     "text": [
      "Model: \"sequential_1\"\n",
      "_________________________________________________________________\n",
      " Layer (type)                Output Shape              Param #   \n",
      "=================================================================\n",
      " zero_padding2d_4 (ZeroPadd  (None, 7, 25, 19)         0         \n",
      " ing2D)                                                          \n",
      "                                                                 \n",
      " conv2d_4 (Conv2D)           (None, 1, 19, 48)         44736     \n",
      "                                                                 \n",
      " activation_5 (Activation)   (None, 1, 19, 48)         0         \n",
      "                                                                 \n",
      " zero_padding2d_5 (ZeroPadd  (None, 5, 23, 48)         0         \n",
      " ing2D)                                                          \n",
      "                                                                 \n",
      " conv2d_5 (Conv2D)           (None, 1, 19, 32)         38432     \n",
      "                                                                 \n",
      " activation_6 (Activation)   (None, 1, 19, 32)         0         \n",
      "                                                                 \n",
      " zero_padding2d_6 (ZeroPadd  (None, 5, 23, 32)         0         \n",
      " ing2D)                                                          \n",
      "                                                                 \n",
      " conv2d_6 (Conv2D)           (None, 1, 19, 32)         25632     \n",
      "                                                                 \n",
      " activation_7 (Activation)   (None, 1, 19, 32)         0         \n",
      "                                                                 \n",
      " zero_padding2d_7 (ZeroPadd  (None, 5, 23, 32)         0         \n",
      " ing2D)                                                          \n",
      "                                                                 \n",
      " conv2d_7 (Conv2D)           (None, 1, 19, 32)         25632     \n",
      "                                                                 \n",
      " activation_8 (Activation)   (None, 1, 19, 32)         0         \n",
      "                                                                 \n",
      " flatten_1 (Flatten)         (None, 608)               0         \n",
      "                                                                 \n",
      " dense_2 (Dense)             (None, 512)               311808    \n",
      "                                                                 \n",
      " activation_9 (Activation)   (None, 512)               0         \n",
      "                                                                 \n",
      " dense_3 (Dense)             (None, 361)               185193    \n",
      "                                                                 \n",
      "=================================================================\n",
      "Total params: 631433 (2.41 MB)\n",
      "Trainable params: 631433 (2.41 MB)\n",
      "Non-trainable params: 0 (0.00 Byte)\n",
      "_________________________________________________________________\n"
     ]
    }
   ],
   "source": [
    "model.summary()"
   ]
  },
  {
   "cell_type": "markdown",
   "id": "03746318-ca00-47ce-9366-d8a54d58bbed",
   "metadata": {},
   "source": [
    "# Plot Results"
   ]
  },
  {
   "cell_type": "code",
   "execution_count": 13,
   "id": "ae313e56-77ab-44c8-a769-2b95fa14132e",
   "metadata": {},
   "outputs": [
    {
     "data": {
      "image/png": "[encoded data removed]",
      "text/plain": [
       "<Figure size 640x480 with 1 Axes>"
      ]
     },
     "metadata": {},
     "output_type": "display_data"
    }
   ],
   "source": [
    "plt.plot(history.history['accuracy'], label='Training Accuracy')\n",
    "plt.plot(history.history['val_accuracy'], label='Validation Accuracy')\n",
    "plt.xlabel('Epochs')\n",
    "plt.ylabel('Accuracy')\n",
    "plt.legend()\n",
    "plt.savefig('accuracy_plot.png');"
   ]
  }
 ],
 "metadata": {
  "kernelspec": {
   "display_name": "Python 3 (ipykernel)",
   "language": "python",
   "name": "python3"
  },
  "language_info": {
   "codemirror_mode": {
    "name": "ipython",
    "version": 3
   },
   "file_extension": ".py",
   "mimetype": "text/x-python",
   "name": "python",
   "nbconvert_exporter": "python",
   "pygments_lexer": "ipython3",
   "version": "3.10.9"
  }
 },
 "nbformat": 4,
 "nbformat_minor": 5
}
