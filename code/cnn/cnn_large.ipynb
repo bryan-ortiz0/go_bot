{
 "cells": [
  {
   "cell_type": "markdown",
   "id": "53ae0b17-acd1-4a59-b44a-079f32244c0c",
   "metadata": {},
   "source": [
    "In this notebook, I present the implementation of a large neural network architecture for the purpose of training a Go-playing bot. The architecture consists of convolutional, dense layers, and regularization techniques designed to process the board state of a 19x19 Go game. The goal is to predict optimal moves based on the current game state by leveraging 100,000 board game positions that represent a diverse range of scenarios."
   ]
  },
  {
   "cell_type": "markdown",
   "id": "f4cd3e2d-938b-47b2-a4c9-e0beb13d8e03",
   "metadata": {},
   "source": [
    "# Import Library"
   ]
  },
  {
   "cell_type": "markdown",
   "id": "f38780b3-c776-4a31-831b-de2764456c9c",
   "metadata": {},
   "source": [
    "The baseline accuracy is .28% since, on a 19 x 19 board, the chance of making the correct play is only 1 in 361."
   ]
  },
  {
   "cell_type": "code",
   "execution_count": 4,
   "id": "7e3cf674-7c7a-415a-a648-c37606534ddc",
   "metadata": {},
   "outputs": [],
   "source": [
    "import matplotlib.pyplot as plt\n",
    "from dlgo.data.parallel_processor import GoDataProcessor\n",
    "from dlgo.encoders.sevenplane import SevenPlaneEncoder\n",
    "from keras.models import Sequential\n",
    "from keras.layers import Dense, Activation, Flatten, Conv2D, ZeroPadding2D, Dropout, MaxPooling2D\n",
    "from keras.callbacks import ModelCheckpoint\n",
    "from keras.optimizers import Adagrad"
   ]
  },
  {
   "cell_type": "markdown",
   "id": "3516d813-92be-4984-9c27-75caf88b3413",
   "metadata": {},
   "source": [
    "# NN Function"
   ]
  },
  {
   "cell_type": "code",
   "execution_count": 2,
   "id": "3465227e-ae27-4538-a8eb-e4c16d2f5980",
   "metadata": {},
   "outputs": [],
   "source": [
    "def large(input_shape):\n",
    "    return [\n",
    "        ZeroPadding2D((3, 3), input_shape=input_shape, data_format='channels_last'),\n",
    "        Conv2D(64, (7, 7), padding='valid', data_format='channels_last'),\n",
    "        Activation('relu'),\n",
    "\n",
    "        ZeroPadding2D((2, 2), data_format='channels_last'),\n",
    "        Conv2D(64, (5, 5), data_format='channels_last'),\n",
    "        Activation('relu'),\n",
    "        MaxPooling2D(pool_size=(2, 2), data_format='channels_last'),\n",
    "        Dropout(0.25),\n",
    "\n",
    "        ZeroPadding2D((2, 2), data_format='channels_last'),\n",
    "        Conv2D(64, (5, 5), data_format='channels_last'),\n",
    "        Activation('relu'),\n",
    "        MaxPooling2D(pool_size=(2, 2), data_format='channels_last'),\n",
    "        Dropout(0.25),\n",
    "\n",
    "        ZeroPadding2D((2, 2), data_format='channels_last'),\n",
    "        Conv2D(48, (5, 5), data_format='channels_last'),\n",
    "        Activation('relu'),\n",
    "\n",
    "        ZeroPadding2D((2, 2), data_format='channels_last'),\n",
    "        Conv2D(48, (5, 5), data_format='channels_last'),\n",
    "        Activation('relu'),\n",
    "\n",
    "        ZeroPadding2D((2, 2), data_format='channels_last'),\n",
    "        Conv2D(32, (5, 5), data_format='channels_last'),\n",
    "        Activation('relu'),\n",
    "\n",
    "        ZeroPadding2D((2, 2), data_format='channels_last'),\n",
    "        Conv2D(32, (5, 5), data_format='channels_last'),\n",
    "        Activation('relu'),\n",
    "\n",
    "        Flatten(),\n",
    "        Dense(1024),\n",
    "        Activation('relu'),\n",
    "        Dropout(0.5),\n",
    "    ]"
   ]
  },
  {
   "cell_type": "markdown",
   "id": "ec728ab7-fdae-4948-9cc8-2147c7c4470f",
   "metadata": {},
   "source": [
    "# Creating training and test generators"
   ]
  },
  {
   "cell_type": "code",
   "execution_count": null,
   "id": "da042406-e2e7-4a79-a09c-fd7b06299f2e",
   "metadata": {},
   "outputs": [],
   "source": [
    "go_board_rows, go_board_cols = 19, 19\n",
    "num_classes = go_board_rows * go_board_cols\n",
    "num_games = 100000\n",
    "\n",
    "encoder = OnePlaneEncoder((go_board_rows, go_board_cols)) \n",
    "\n",
    "processor = GoDataProcessor(encoder=encoder.name())\n",
    "\n",
    "generator = processor.load_go_data('train', num_games, use_generator=True)\n",
    "test_generator = processor.load_go_data('test', num_games, use_generator=True)"
   ]
  },
  {
   "cell_type": "markdown",
   "id": "6e89721b-8cc3-4f0f-bbe4-fac54c400abe",
   "metadata": {},
   "source": [
    "# Defining a Keras model from NN"
   ]
  },
  {
   "cell_type": "code",
   "execution_count": null,
   "id": "3fa3ad64-a2e7-474c-b2ea-466ff63aa00c",
   "metadata": {},
   "outputs": [],
   "source": [
    "input_shape = (encoder.num_planes, go_board_rows, go_board_cols)\n",
    "network_layers = large(input_shape)\n",
    "model = Sequential()\n",
    "for layer in network_layers:\n",
    "    model.add(layer)\n",
    "model.add(Dense(num_classes, activation='softmax'))\n",
    "model.compile(loss='categorical_crossentropy', optimizer=Adagrad(), \n",
    "metrics=['accuracy'])"
   ]
  },
  {
   "cell_type": "markdown",
   "id": "4bc7f4a0-11a8-4b76-97d8-03472124a68d",
   "metadata": {},
   "source": [
    "# Fitting and Evaluating Keras Models with Generators"
   ]
  },
  {
   "cell_type": "code",
   "execution_count": null,
   "id": "fa1db9ec-c255-4368-b6bc-aaeb821b59d8",
   "metadata": {},
   "outputs": [],
   "source": [
    "epochs = 10\n",
    "batch_size = 128\n",
    "\n",
    "history = model.fit(\n",
    "    x=generator.generate(batch_size, num_classes),\n",
    "    epochs=epochs,\n",
    "    steps_per_epoch=generator.get_num_samples() // batch_size,\n",
    "    validation_data=test_generator.generate(batch_size, num_classes),\n",
    "    validation_steps=test_generator.get_num_samples() // batch_size,\n",
    "    callbacks=[ModelCheckpoint('../checkpoints/small_model_epoch_{epoch}.h5')],\n",
    ")\n",
    "\n",
    "score = model.evaluate(\n",
    "    x=test_generator.generate(batch_size, num_classes),\n",
    "    steps=test_generator.get_num_samples() // batch_size,\n",
    ")\n",
    "\n",
    "print(f'Test loss: \\n{score[0]}')\n",
    "print(f'Test accuracy: \\n{score[1]}')"
   ]
  },
  {
   "cell_type": "markdown",
   "id": "64f959e1-fd8b-49ec-a3e9-38e2d43a6e49",
   "metadata": {},
   "source": [
    "# Plot Results"
   ]
  },
  {
   "cell_type": "code",
   "execution_count": null,
   "id": "2f8270f6-583d-48d8-8cb6-9cf22c90248c",
   "metadata": {},
   "outputs": [],
   "source": [
    "plt.plot(history.history['accuracy'], label='Training Accuracy')\n",
    "plt.plot(history.history['val_accuracy'], label='Validation Accuracy')\n",
    "plt.xlabel('Epochs')\n",
    "plt.ylabel('Accuracy')\n",
    "plt.legend()\n",
    "plt.savefig('nn_large_plot.png');"
   ]
  }
 ],
 "metadata": {
  "kernelspec": {
   "display_name": "Python 3 (ipykernel)",
   "language": "python",
   "name": "python3"
  },
  "language_info": {
   "codemirror_mode": {
    "name": "ipython",
    "version": 3
   },
   "file_extension": ".py",
   "mimetype": "text/x-python",
   "name": "python",
   "nbconvert_exporter": "python",
   "pygments_lexer": "ipython3",
   "version": "3.10.9"
  }
 },
 "nbformat": 4,
 "nbformat_minor": 5
}
